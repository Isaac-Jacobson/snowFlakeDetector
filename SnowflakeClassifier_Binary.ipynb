{
  "nbformat": 4,
  "nbformat_minor": 0,
  "metadata": {
    "colab": {
      "name": "SnowflakeClassifier-Binary",
      "provenance": [],
      "authorship_tag": "ABX9TyN249TS0DfSK9JSzUXh8MR4",
      "include_colab_link": true
    },
    "kernelspec": {
      "name": "python3",
      "display_name": "Python 3"
    },
    "language_info": {
      "name": "python"
    }
  },
  "cells": [
    {
      "cell_type": "markdown",
      "metadata": {
        "id": "view-in-github",
        "colab_type": "text"
      },
      "source": [
        "<a href=\"https://colab.research.google.com/github/Isaac-Jacobson/snowFlakeDetector/blob/main/SnowflakeClassifier_Binary.ipynb\" target=\"_parent\"><img src=\"https://colab.research.google.com/assets/colab-badge.svg\" alt=\"Open In Colab\"/></a>"
      ]
    },
    {
      "cell_type": "markdown",
      "source": [
        "#Abonded this notebook\n",
        "I figured just using a object detector would be easier and better than have a detector (possibly hard coded) and a classifier."
      ],
      "metadata": {
        "id": "nA3uBJFt4Wp9"
      }
    },
    {
      "cell_type": "markdown",
      "source": [
        "#Binary classifier\n",
        "For testing if an object is a snowflake or not"
      ],
      "metadata": {
        "id": "oQcGJ7sdpf4s"
      }
    },
    {
      "cell_type": "code",
      "source": [
        "#install -q tflite-model-maker\n",
        "#!pip install -q tflite-support"
      ],
      "metadata": {
        "id": "ctb3227EpF0p"
      },
      "execution_count": null,
      "outputs": []
    },
    {
      "cell_type": "code",
      "execution_count": null,
      "metadata": {
        "id": "SW8kdE3TlqAy"
      },
      "outputs": [],
      "source": [
        "import tensorflow as tf\n",
        "import matplotlib as plt\n",
        "import panda as pd\n",
        "import numpy as np\n",
        "import os\n",
        "import tarfile\n",
        "import urllib\n",
        "\n",
        "from tflite_model_maker import object_detector\n"
      ]
    },
    {
      "cell_type": "code",
      "source": [
        "trainData, validData, testData = object_detector.DataLoader.from_csv('./annotations.csv')"
      ],
      "metadata": {
        "id": "n5pphKQImCuc"
      },
      "execution_count": null,
      "outputs": []
    },
    {
      "cell_type": "markdown",
      "source": [
        "# Using Stochastic Gradient Descent\n",
        "Mostly for evaluating precision vs recall"
      ],
      "metadata": {
        "id": "W3RCcUsAtpzL"
      }
    },
    {
      "cell_type": "code",
      "source": [
        "from sklearn.linear_model import SGDClassifier\n",
        "\n",
        "sgd_clf = SGDClassifier(random_state=42)\n",
        "sgd_clf.fit(trainData, trainLabel)"
      ],
      "metadata": {
        "id": "MXUsUBc_nTks"
      },
      "execution_count": null,
      "outputs": []
    },
    {
      "cell_type": "code",
      "source": [
        "from sklearn.model_selection import cross_val_predict\n",
        "from scklearn.metrics import confusion_matrix, precision_score, recall_score\n",
        "\n",
        "pred = cross_val_predict(sgd_clf, testData, testLabels)\n",
        "confusion_matrix(testLabels, pred)\n",
        "precision_score(testLabels, pred)\n",
        "recall_score(testLabels, pred)"
      ],
      "metadata": {
        "id": "-zqGv7p1nThR"
      },
      "execution_count": null,
      "outputs": []
    },
    {
      "cell_type": "markdown",
      "source": [
        "# Using A Neural Network (Autokeras)\n",
        "Here I used autokeras makming it a little more accurate but more time consuming"
      ],
      "metadata": {
        "id": "8f3m96b8teso"
      }
    },
    {
      "cell_type": "code",
      "source": [
        "#!pip install autokeras\n",
        "import autokeras as ak"
      ],
      "metadata": {
        "id": "8J5vYB5inTem"
      },
      "execution_count": null,
      "outputs": []
    },
    {
      "cell_type": "code",
      "source": [
        "# Initialize the image classifier.\n",
        "input_node = ak.ImageInput()\n",
        "output_node = ak.ImageBlock(\n",
        "    block_type=\"resnet\", # Search resnet architectures (for now)\n",
        "    normalize=True,\n",
        "    augment=False,\n",
        ")(input_node)\n",
        "output_node = ak.ClassificationHead()(output_node)\n",
        "clf = ak.AutoModel(\n",
        "    inputs=input_node, outputs=output_node, overwrite=True, max_trials=12\n",
        ")\n",
        "# Feed the image classifier with training data.\n",
        "clf.fit(trainData, trainLabels) # unspecified number of epochs\n",
        "\n",
        "# Predict with the best model.\n",
        "pred = clf.predict(testData)\n",
        "print(pred)\n",
        "\n",
        "# Evaluate the best model with testing data.\n",
        "print(clf.evaluate(testData, testLabels))"
      ],
      "metadata": {
        "id": "VS17yr5unTcL"
      },
      "execution_count": null,
      "outputs": []
    },
    {
      "cell_type": "code",
      "source": [
        ""
      ],
      "metadata": {
        "id": "UaxoEZmznTZw"
      },
      "execution_count": null,
      "outputs": []
    }
  ]
}